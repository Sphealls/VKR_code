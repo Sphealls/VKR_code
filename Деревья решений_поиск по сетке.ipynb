{
 "cells": [
  {
   "cell_type": "markdown",
   "metadata": {
    "id": "dgHXDVg8MRRQ"
   },
   "source": [
    "# Загрузка датасета"
   ]
  },
  {
   "cell_type": "code",
   "execution_count": 30,
   "metadata": {
    "executionInfo": {
     "elapsed": 1544,
     "status": "ok",
     "timestamp": 1681823358581,
     "user": {
      "displayName": "Xeniya Witch",
      "userId": "16990972795792478232"
     },
     "user_tz": -180
    },
    "id": "KWOdmMZ5JFt2"
   },
   "outputs": [],
   "source": [
    "import pandas as pd\n",
    "import numpy as np\n",
    "import matplotlib.pyplot as plt\n",
    "import seaborn as sns\n",
    "import time"
   ]
  },
  {
   "cell_type": "code",
   "execution_count": 31,
   "metadata": {
    "executionInfo": {
     "elapsed": 5,
     "status": "ok",
     "timestamp": 1681823358583,
     "user": {
      "displayName": "Xeniya Witch",
      "userId": "16990972795792478232"
     },
     "user_tz": -180
    },
    "id": "1qiyvxnXDmea"
   },
   "outputs": [],
   "source": [
    "import warnings\n",
    "from statsmodels.tools.sm_exceptions import ConvergenceWarning\n",
    "warnings.simplefilter('ignore', ConvergenceWarning)\n",
    "warnings.simplefilter('ignore', FutureWarning)\n",
    "warnings.simplefilter('ignore', UserWarning)\n",
    "warnings.simplefilter('ignore', RuntimeWarning)"
   ]
  },
  {
   "cell_type": "code",
   "execution_count": 32,
   "metadata": {
    "colab": {
     "base_uri": "https://localhost:8080/",
     "height": 206
    },
    "executionInfo": {
     "elapsed": 1086,
     "status": "ok",
     "timestamp": 1681823359665,
     "user": {
      "displayName": "Xeniya Witch",
      "userId": "16990972795792478232"
     },
     "user_tz": -180
    },
    "id": "Kkjp-o7taRJy",
    "outputId": "b727fda1-d6ab-4850-c678-ce72b4f2451a"
   },
   "outputs": [
    {
     "data": {
      "text/html": [
       "<div>\n",
       "<style scoped>\n",
       "    .dataframe tbody tr th:only-of-type {\n",
       "        vertical-align: middle;\n",
       "    }\n",
       "\n",
       "    .dataframe tbody tr th {\n",
       "        vertical-align: top;\n",
       "    }\n",
       "\n",
       "    .dataframe thead th {\n",
       "        text-align: right;\n",
       "    }\n",
       "</style>\n",
       "<table border=\"1\" class=\"dataframe\">\n",
       "  <thead>\n",
       "    <tr style=\"text-align: right;\">\n",
       "      <th></th>\n",
       "      <th>Date</th>\n",
       "      <th>Time</th>\n",
       "      <th>Usage_kWh</th>\n",
       "    </tr>\n",
       "  </thead>\n",
       "  <tbody>\n",
       "    <tr>\n",
       "      <th>0</th>\n",
       "      <td>2017-01-01</td>\n",
       "      <td>00 - 01</td>\n",
       "      <td>570.685479</td>\n",
       "    </tr>\n",
       "    <tr>\n",
       "      <th>1</th>\n",
       "      <td>2017-01-01</td>\n",
       "      <td>01 - 02</td>\n",
       "      <td>604.642705</td>\n",
       "    </tr>\n",
       "    <tr>\n",
       "      <th>2</th>\n",
       "      <td>2017-01-01</td>\n",
       "      <td>02 - 03</td>\n",
       "      <td>518.732113</td>\n",
       "    </tr>\n",
       "    <tr>\n",
       "      <th>3</th>\n",
       "      <td>2017-01-01</td>\n",
       "      <td>03 - 04</td>\n",
       "      <td>608.188829</td>\n",
       "    </tr>\n",
       "    <tr>\n",
       "      <th>4</th>\n",
       "      <td>2017-01-01</td>\n",
       "      <td>04 - 05</td>\n",
       "      <td>714.140572</td>\n",
       "    </tr>\n",
       "  </tbody>\n",
       "</table>\n",
       "</div>"
      ],
      "text/plain": [
       "        Date     Time   Usage_kWh\n",
       "0 2017-01-01  00 - 01  570.685479\n",
       "1 2017-01-01  01 - 02  604.642705\n",
       "2 2017-01-01  02 - 03  518.732113\n",
       "3 2017-01-01  03 - 04  608.188829\n",
       "4 2017-01-01  04 - 05  714.140572"
      ]
     },
     "execution_count": 32,
     "metadata": {},
     "output_type": "execute_result"
    }
   ],
   "source": [
    "data = pd.read_csv('Харовсклеспром_data.csv', index_col=0, parse_dates=['Date'])\n",
    "data.head()"
   ]
  },
  {
   "cell_type": "code",
   "execution_count": 33,
   "metadata": {
    "executionInfo": {
     "elapsed": 18,
     "status": "ok",
     "timestamp": 1681823359666,
     "user": {
      "displayName": "Xeniya Witch",
      "userId": "16990972795792478232"
     },
     "user_tz": -180
    },
    "id": "N_4rM0COm_nd"
   },
   "outputs": [],
   "source": [
    "y_test = data.iloc[-24*7:]['Usage_kWh'].values"
   ]
  },
  {
   "cell_type": "code",
   "execution_count": 34,
   "metadata": {},
   "outputs": [],
   "source": [
    "y = data[data['Date'] <= '2020-12-24']['Usage_kWh'].values # до 24 вкл\n",
    "y25 = data[data['Date'] <= '2020-12-25']['Usage_kWh'].values # до 25 вкл\n",
    "y26 = data[data['Date'] <= '2020-12-26']['Usage_kWh'].values # до 26 вкл\n",
    "y27 = data[data['Date'] <= '2020-12-27']['Usage_kWh'].values# до 27 вкл\n",
    "y28 = data[data['Date'] <= '2020-12-28']['Usage_kWh'].values # до 28 вкл\n",
    "y29 = data[data['Date'] <= '2020-12-29']['Usage_kWh'].values # до 29 вкл\n",
    "y30 = data[data['Date'] <= '2020-12-30']['Usage_kWh'].values # до 30 вкл\n",
    "y_list = [y, y25, y26, y27, y28, y29, y30]"
   ]
  },
  {
   "cell_type": "code",
   "execution_count": 35,
   "metadata": {
    "executionInfo": {
     "elapsed": 18,
     "status": "ok",
     "timestamp": 1681823359667,
     "user": {
      "displayName": "Xeniya Witch",
      "userId": "16990972795792478232"
     },
     "user_tz": -180
    },
    "id": "ouUVlGRnNQKe"
   },
   "outputs": [],
   "source": [
    "from sklearn.tree import DecisionTreeRegressor\n",
    "from sklearn.ensemble import RandomForestRegressor\n",
    "from sklearn.model_selection import GridSearchCV"
   ]
  },
  {
   "cell_type": "code",
   "execution_count": 36,
   "metadata": {
    "executionInfo": {
     "elapsed": 20,
     "status": "ok",
     "timestamp": 1681823359669,
     "user": {
      "displayName": "Xeniya Witch",
      "userId": "16990972795792478232"
     },
     "user_tz": -180
    },
    "id": "bdisw9mUPo_6"
   },
   "outputs": [],
   "source": [
    "df_results = pd.DataFrame(None,\n",
    "                      columns=['Model', 'Tuner', 'Params',\n",
    "                               'MAPE', 'MSE', 'MAE', 'R2', #'Sum',\n",
    "                               'Training_time', 'Tuner_time', 'Time_prediction'])\n",
    "df_predictions = pd.DataFrame(None)\n",
    "df_predictions['True'] = y_test"
   ]
  },
  {
   "cell_type": "code",
   "execution_count": 37,
   "metadata": {
    "executionInfo": {
     "elapsed": 21,
     "status": "ok",
     "timestamp": 1681823359670,
     "user": {
      "displayName": "Xeniya Witch",
      "userId": "16990972795792478232"
     },
     "user_tz": -180
    },
    "id": "yGfQKcGxPssP"
   },
   "outputs": [],
   "source": [
    "def mape(y_true, y_pred):\n",
    "    return np.mean(np.abs((y_true - y_pred) / y_true)) * 100\n",
    "\n",
    "def mse(y_true, y_pred):\n",
    "    return np.mean((y_true-y_pred)**2)\n",
    "\n",
    "def mae(y_true, y_pred):\n",
    "    return np.mean(abs(y_true-y_pred))\n",
    "\n",
    "def r2(y_true, y_pred):\n",
    "    ssres = sum((y_true-y_pred)**2)\n",
    "    sstotal = sum((y_true-np.mean(y_true))**2)\n",
    "    return 1 - ssres/sstotal"
   ]
  },
  {
   "cell_type": "code",
   "execution_count": 38,
   "metadata": {
    "executionInfo": {
     "elapsed": 21,
     "status": "ok",
     "timestamp": 1681823359671,
     "user": {
      "displayName": "Xeniya Witch",
      "userId": "16990972795792478232"
     },
     "user_tz": -180
    },
    "id": "7Z6ptD2yjchG"
   },
   "outputs": [],
   "source": [
    "WINDOW = 24*7\n",
    "Forecast_type = 'Наблюдение за раз'\n",
    "\n",
    "\n",
    "# каждый день отдельно, в каждом дне по 1 наблюдению\n",
    "# X=[data_0, ..., data_23] -> y=[data_24]\n",
    "X_train, y_train = [], []\n",
    "for i in range(0, len(y)-WINDOW):\n",
    "    X_train.append(y[i:i+WINDOW])\n",
    "    y_train.append(y[i+WINDOW])"
   ]
  },
  {
   "cell_type": "markdown",
   "metadata": {
    "id": "gTk88dq4Wspy"
   },
   "source": [
    "# DecisionTree"
   ]
  },
  {
   "cell_type": "code",
   "execution_count": 39,
   "metadata": {},
   "outputs": [],
   "source": [
    "model = DecisionTreeRegressor()\n",
    "parameters = {'max_depth' : list(range(1, 21))}\n",
    "gridsearch = GridSearchCV(model, parameters, n_jobs=-1)\n",
    "start_tuner = time.time()\n",
    "gridsearch.fit(X_train, y_train)\n",
    "end_tuner = time.time()"
   ]
  },
  {
   "cell_type": "code",
   "execution_count": 42,
   "metadata": {
    "executionInfo": {
     "elapsed": 22,
     "status": "ok",
     "timestamp": 1681823359672,
     "user": {
      "displayName": "Xeniya Witch",
      "userId": "16990972795792478232"
     },
     "user_tz": -180
    },
    "id": "ZQpVloNuHJb_"
   },
   "outputs": [
    {
     "data": {
      "text/plain": [
       "{'max_depth': 7}"
      ]
     },
     "execution_count": 42,
     "metadata": {},
     "output_type": "execute_result"
    }
   ],
   "source": [
    "model_name = 'DecisionTree'\n",
    "params = {'max_depth': gridsearch.best_params_['max_depth']}\n",
    "Tuner = True\n",
    "params"
   ]
  },
  {
   "cell_type": "code",
   "execution_count": 44,
   "metadata": {
    "executionInfo": {
     "elapsed": 21,
     "status": "ok",
     "timestamp": 1681823359672,
     "user": {
      "displayName": "Xeniya Witch",
      "userId": "16990972795792478232"
     },
     "user_tz": -180
    },
    "id": "uEte1WyKPsue"
   },
   "outputs": [],
   "source": [
    "model = DecisionTreeRegressor(max_depth=params['max_depth'])\n",
    "start_training = time.time()\n",
    "model.fit(X_train, y_train)\n",
    "end_training = time.time()"
   ]
  },
  {
   "cell_type": "code",
   "execution_count": 45,
   "metadata": {},
   "outputs": [
    {
     "name": "stdout",
     "output_type": "stream",
     "text": [
      "Day: 1\n",
      "Day: 2\n",
      "Day: 3\n",
      "Day: 4\n",
      "Day: 5\n",
      "Day: 6\n",
      "Day: 7\n"
     ]
    }
   ],
   "source": [
    "start_prediction = time.time()\n",
    "y_pred = []\n",
    "for day in range(7):\n",
    "    print(f'Day: {day+1}')\n",
    "    X_for_prediction = y_list[day][-24*7:]\n",
    "    for i in range(24):\n",
    "        new_y = model.predict(X_for_prediction[-24*7:].reshape(1, -1)).item()\n",
    "        y_pred.append(new_y)\n",
    "        X_for_prediction = np.append(X_for_prediction, new_y)\n",
    "end_prediction = time.time()\n",
    "df_predictions[f'{model_name}({Forecast_type})'] = y_pred"
   ]
  },
  {
   "cell_type": "code",
   "execution_count": 46,
   "metadata": {
    "colab": {
     "base_uri": "https://localhost:8080/",
     "height": 142
    },
    "executionInfo": {
     "elapsed": 24,
     "status": "ok",
     "timestamp": 1681823359676,
     "user": {
      "displayName": "Xeniya Witch",
      "userId": "16990972795792478232"
     },
     "user_tz": -180
    },
    "id": "VbGwjUN1f1eC",
    "outputId": "bd75de16-f4d4-4dae-cacb-489b9b0cda2c"
   },
   "outputs": [
    {
     "data": {
      "text/html": [
       "<div>\n",
       "<style scoped>\n",
       "    .dataframe tbody tr th:only-of-type {\n",
       "        vertical-align: middle;\n",
       "    }\n",
       "\n",
       "    .dataframe tbody tr th {\n",
       "        vertical-align: top;\n",
       "    }\n",
       "\n",
       "    .dataframe thead th {\n",
       "        text-align: right;\n",
       "    }\n",
       "</style>\n",
       "<table border=\"1\" class=\"dataframe\">\n",
       "  <thead>\n",
       "    <tr style=\"text-align: right;\">\n",
       "      <th></th>\n",
       "      <th>Model</th>\n",
       "      <th>Tuner</th>\n",
       "      <th>Params</th>\n",
       "      <th>MAPE</th>\n",
       "      <th>MSE</th>\n",
       "      <th>MAE</th>\n",
       "      <th>R2</th>\n",
       "      <th>Training_time</th>\n",
       "      <th>Tuner_time</th>\n",
       "      <th>Time_prediction</th>\n",
       "    </tr>\n",
       "  </thead>\n",
       "  <tbody>\n",
       "    <tr>\n",
       "      <th>0</th>\n",
       "      <td>DecisionTree(Наблюдение за раз)</td>\n",
       "      <td>True</td>\n",
       "      <td>{'max_depth': 7}</td>\n",
       "      <td>10.319345</td>\n",
       "      <td>15254.388766</td>\n",
       "      <td>92.061003</td>\n",
       "      <td>0.868599</td>\n",
       "      <td>5.335809</td>\n",
       "      <td>447.066828</td>\n",
       "      <td>0.20601</td>\n",
       "    </tr>\n",
       "  </tbody>\n",
       "</table>\n",
       "</div>"
      ],
      "text/plain": [
       "                             Model Tuner            Params       MAPE  \\\n",
       "0  DecisionTree(Наблюдение за раз)  True  {'max_depth': 7}  10.319345   \n",
       "\n",
       "            MSE        MAE        R2  Training_time  Tuner_time  \\\n",
       "0  15254.388766  92.061003  0.868599       5.335809  447.066828   \n",
       "\n",
       "   Time_prediction  \n",
       "0          0.20601  "
      ]
     },
     "execution_count": 46,
     "metadata": {},
     "output_type": "execute_result"
    }
   ],
   "source": [
    "df_results = df_results.append({'Model':f'{model_name}({Forecast_type})',\n",
    "                        'Tuner':Tuner,\n",
    "                        'Params': params,\n",
    "                        'MAPE':mape(y_test, y_pred),\n",
    "                        'MSE':mse(y_test, y_pred),\n",
    "                        'MAE':mae(y_test, y_pred),\n",
    "                        'R2':r2(y_test, y_pred),\n",
    "                        #'Sum':sum(y_pred),\n",
    "                        'Training_time':end_training-start_training,\n",
    "                        'Tuner_time':end_tuner-start_tuner,\n",
    "                        'Time_prediction':end_prediction-start_prediction},\n",
    "                                                                ignore_index=True)\n",
    "df_results"
   ]
  },
  {
   "cell_type": "code",
   "execution_count": 47,
   "metadata": {},
   "outputs": [],
   "source": [
    "WINDOW = 24*7\n",
    "Forecast_type = 'Сутки за раз'\n",
    "\n",
    "X_train, y_train = [], []\n",
    "for i in range(0, len(y)-24*8):\n",
    "    X_train.append(y[i:i+WINDOW])\n",
    "    y_train.append(y[i+WINDOW:i+WINDOW+24])"
   ]
  },
  {
   "cell_type": "code",
   "execution_count": 48,
   "metadata": {},
   "outputs": [
    {
     "data": {
      "text/plain": [
       "{'max_depth': 8}"
      ]
     },
     "execution_count": 48,
     "metadata": {},
     "output_type": "execute_result"
    }
   ],
   "source": [
    "model = DecisionTreeRegressor()\n",
    "parameters = {'max_depth' : list(range(1, 21))}\n",
    "gridsearch = GridSearchCV(model, parameters, n_jobs=-1)\n",
    "start_tuner = time.time()\n",
    "gridsearch.fit(X_train, y_train)\n",
    "end_tuner = time.time()\n",
    "\n",
    "model_name = 'DecisionTree'\n",
    "params = {'max_depth': gridsearch.best_params_['max_depth']}\n",
    "Tuner = True\n",
    "params"
   ]
  },
  {
   "cell_type": "code",
   "execution_count": 49,
   "metadata": {},
   "outputs": [],
   "source": [
    "model = DecisionTreeRegressor(max_depth=params['max_depth'])\n",
    "start_training = time.time()\n",
    "model.fit(X_train, y_train)\n",
    "end_training = time.time()"
   ]
  },
  {
   "cell_type": "code",
   "execution_count": 50,
   "metadata": {},
   "outputs": [
    {
     "name": "stdout",
     "output_type": "stream",
     "text": [
      "Day: 1\n",
      "Day: 2\n",
      "Day: 3\n",
      "Day: 4\n",
      "Day: 5\n",
      "Day: 6\n",
      "Day: 7\n"
     ]
    }
   ],
   "source": [
    "start_prediction = time.time()\n",
    "y_pred = []\n",
    "for day in range(7):\n",
    "    print(f'Day: {day+1}')\n",
    "    X_for_prediction = y_list[day][-24*7:]\n",
    "    new_y = model.predict(X_for_prediction[-24*7:].reshape(1, -1))[0]\n",
    "    y_pred.extend(new_y)\n",
    "end_prediction = time.time()\n",
    "df_predictions[f'{model_name}({Forecast_type})'] = y_pred"
   ]
  },
  {
   "cell_type": "code",
   "execution_count": 51,
   "metadata": {},
   "outputs": [
    {
     "data": {
      "text/html": [
       "<div>\n",
       "<style scoped>\n",
       "    .dataframe tbody tr th:only-of-type {\n",
       "        vertical-align: middle;\n",
       "    }\n",
       "\n",
       "    .dataframe tbody tr th {\n",
       "        vertical-align: top;\n",
       "    }\n",
       "\n",
       "    .dataframe thead th {\n",
       "        text-align: right;\n",
       "    }\n",
       "</style>\n",
       "<table border=\"1\" class=\"dataframe\">\n",
       "  <thead>\n",
       "    <tr style=\"text-align: right;\">\n",
       "      <th></th>\n",
       "      <th>Model</th>\n",
       "      <th>Tuner</th>\n",
       "      <th>Params</th>\n",
       "      <th>MAPE</th>\n",
       "      <th>MSE</th>\n",
       "      <th>MAE</th>\n",
       "      <th>R2</th>\n",
       "      <th>Training_time</th>\n",
       "      <th>Tuner_time</th>\n",
       "      <th>Time_prediction</th>\n",
       "    </tr>\n",
       "  </thead>\n",
       "  <tbody>\n",
       "    <tr>\n",
       "      <th>0</th>\n",
       "      <td>DecisionTree(Наблюдение за раз)</td>\n",
       "      <td>True</td>\n",
       "      <td>{'max_depth': 7}</td>\n",
       "      <td>10.319345</td>\n",
       "      <td>15254.388766</td>\n",
       "      <td>92.061003</td>\n",
       "      <td>0.868599</td>\n",
       "      <td>5.335809</td>\n",
       "      <td>447.066828</td>\n",
       "      <td>0.20601</td>\n",
       "    </tr>\n",
       "    <tr>\n",
       "      <th>1</th>\n",
       "      <td>DecisionTree(Сутки за раз)</td>\n",
       "      <td>True</td>\n",
       "      <td>{'max_depth': 8}</td>\n",
       "      <td>10.552595</td>\n",
       "      <td>16959.824443</td>\n",
       "      <td>93.688000</td>\n",
       "      <td>0.853908</td>\n",
       "      <td>19.740879</td>\n",
       "      <td>None</td>\n",
       "      <td>0.00800</td>\n",
       "    </tr>\n",
       "  </tbody>\n",
       "</table>\n",
       "</div>"
      ],
      "text/plain": [
       "                             Model Tuner            Params       MAPE  \\\n",
       "0  DecisionTree(Наблюдение за раз)  True  {'max_depth': 7}  10.319345   \n",
       "1       DecisionTree(Сутки за раз)  True  {'max_depth': 8}  10.552595   \n",
       "\n",
       "            MSE        MAE        R2  Training_time  Tuner_time  \\\n",
       "0  15254.388766  92.061003  0.868599       5.335809  447.066828   \n",
       "1  16959.824443  93.688000  0.853908      19.740879        None   \n",
       "\n",
       "   Time_prediction  \n",
       "0          0.20601  \n",
       "1          0.00800  "
      ]
     },
     "execution_count": 51,
     "metadata": {},
     "output_type": "execute_result"
    }
   ],
   "source": [
    "df_results = df_results.append({'Model':f'{model_name}({Forecast_type})',\n",
    "                        'Tuner':Tuner,\n",
    "                        'Params': params,\n",
    "                        'MAPE':mape(y_test, y_pred),\n",
    "                        'MSE':mse(y_test, y_pred),\n",
    "                        'MAE':mae(y_test, y_pred),\n",
    "                        'R2':r2(y_test, y_pred),\n",
    "                        #'Sum':sum(y_pred),\n",
    "                        'Training_time':end_training-start_training,\n",
    "                        'Tuner_time':None,\n",
    "                        'Time_prediction':end_prediction-start_prediction},\n",
    "                                                                ignore_index=True)\n",
    "df_results"
   ]
  },
  {
   "cell_type": "code",
   "execution_count": 52,
   "metadata": {},
   "outputs": [],
   "source": [
    "WINDOW = 24*7\n",
    "Forecast_type = 'Неделя за раз'\n",
    "\n",
    "X_train, y_train = [], []\n",
    "for i in range(0, len(y)-24*14):\n",
    "    X_train.append(y[i:i+WINDOW])\n",
    "    y_train.append(y[i+WINDOW:i+WINDOW+24*7])"
   ]
  },
  {
   "cell_type": "code",
   "execution_count": 54,
   "metadata": {},
   "outputs": [
    {
     "data": {
      "text/plain": [
       "{'max_depth': 8}"
      ]
     },
     "execution_count": 54,
     "metadata": {},
     "output_type": "execute_result"
    }
   ],
   "source": [
    "model = DecisionTreeRegressor()\n",
    "parameters = {'max_depth' : list(range(1, 21))}\n",
    "gridsearch = GridSearchCV(model, parameters, n_jobs=-1)\n",
    "start_tuner = time.time()\n",
    "gridsearch.fit(X_train, y_train)\n",
    "end_tuner = time.time()\n",
    "\n",
    "model_name = 'DecisionTree'\n",
    "params = {'max_depth': gridsearch.best_params_['max_depth']}\n",
    "Tuner = True\n",
    "params"
   ]
  },
  {
   "cell_type": "code",
   "execution_count": 55,
   "metadata": {},
   "outputs": [],
   "source": [
    "model = DecisionTreeRegressor(max_depth=params['max_depth'])\n",
    "start_training = time.time()\n",
    "model.fit(X_train, y_train)\n",
    "end_training = time.time()"
   ]
  },
  {
   "cell_type": "code",
   "execution_count": 56,
   "metadata": {},
   "outputs": [],
   "source": [
    "y_pred = []\n",
    "X_for_prediction = y[-24*7:]\n",
    "start_prediction = time.time()\n",
    "y_pred = model.predict(X_for_prediction.reshape(-1, 24*7))[0]\n",
    "end_prediction = time.time()\n",
    "df_predictions[f'{model_name}({Forecast_type})'] = y_pred"
   ]
  },
  {
   "cell_type": "code",
   "execution_count": 57,
   "metadata": {},
   "outputs": [
    {
     "data": {
      "text/html": [
       "<div>\n",
       "<style scoped>\n",
       "    .dataframe tbody tr th:only-of-type {\n",
       "        vertical-align: middle;\n",
       "    }\n",
       "\n",
       "    .dataframe tbody tr th {\n",
       "        vertical-align: top;\n",
       "    }\n",
       "\n",
       "    .dataframe thead th {\n",
       "        text-align: right;\n",
       "    }\n",
       "</style>\n",
       "<table border=\"1\" class=\"dataframe\">\n",
       "  <thead>\n",
       "    <tr style=\"text-align: right;\">\n",
       "      <th></th>\n",
       "      <th>Model</th>\n",
       "      <th>Tuner</th>\n",
       "      <th>Params</th>\n",
       "      <th>MAPE</th>\n",
       "      <th>MSE</th>\n",
       "      <th>MAE</th>\n",
       "      <th>R2</th>\n",
       "      <th>Training_time</th>\n",
       "      <th>Tuner_time</th>\n",
       "      <th>Time_prediction</th>\n",
       "    </tr>\n",
       "  </thead>\n",
       "  <tbody>\n",
       "    <tr>\n",
       "      <th>0</th>\n",
       "      <td>DecisionTree(Наблюдение за раз)</td>\n",
       "      <td>True</td>\n",
       "      <td>{'max_depth': 7}</td>\n",
       "      <td>10.319345</td>\n",
       "      <td>15254.388766</td>\n",
       "      <td>92.061003</td>\n",
       "      <td>0.868599</td>\n",
       "      <td>5.335809</td>\n",
       "      <td>447.066828</td>\n",
       "      <td>0.206010</td>\n",
       "    </tr>\n",
       "    <tr>\n",
       "      <th>1</th>\n",
       "      <td>DecisionTree(Сутки за раз)</td>\n",
       "      <td>True</td>\n",
       "      <td>{'max_depth': 8}</td>\n",
       "      <td>10.552595</td>\n",
       "      <td>16959.824443</td>\n",
       "      <td>93.688000</td>\n",
       "      <td>0.853908</td>\n",
       "      <td>19.740879</td>\n",
       "      <td>None</td>\n",
       "      <td>0.008000</td>\n",
       "    </tr>\n",
       "    <tr>\n",
       "      <th>2</th>\n",
       "      <td>DecisionTree(Неделя за раз)</td>\n",
       "      <td>True</td>\n",
       "      <td>{'max_depth': 8}</td>\n",
       "      <td>9.273271</td>\n",
       "      <td>11527.566307</td>\n",
       "      <td>82.471311</td>\n",
       "      <td>0.900702</td>\n",
       "      <td>58.040292</td>\n",
       "      <td>None</td>\n",
       "      <td>0.002001</td>\n",
       "    </tr>\n",
       "  </tbody>\n",
       "</table>\n",
       "</div>"
      ],
      "text/plain": [
       "                             Model Tuner            Params       MAPE  \\\n",
       "0  DecisionTree(Наблюдение за раз)  True  {'max_depth': 7}  10.319345   \n",
       "1       DecisionTree(Сутки за раз)  True  {'max_depth': 8}  10.552595   \n",
       "2      DecisionTree(Неделя за раз)  True  {'max_depth': 8}   9.273271   \n",
       "\n",
       "            MSE        MAE        R2  Training_time  Tuner_time  \\\n",
       "0  15254.388766  92.061003  0.868599       5.335809  447.066828   \n",
       "1  16959.824443  93.688000  0.853908      19.740879        None   \n",
       "2  11527.566307  82.471311  0.900702      58.040292        None   \n",
       "\n",
       "   Time_prediction  \n",
       "0         0.206010  \n",
       "1         0.008000  \n",
       "2         0.002001  "
      ]
     },
     "execution_count": 57,
     "metadata": {},
     "output_type": "execute_result"
    }
   ],
   "source": [
    "df_results = df_results.append({'Model':f'{model_name}({Forecast_type})',\n",
    "                        'Tuner':Tuner,\n",
    "                        'Params': params,\n",
    "                        'MAPE':mape(y_test, y_pred),\n",
    "                        'MSE':mse(y_test, y_pred),\n",
    "                        'MAE':mae(y_test, y_pred),\n",
    "                        'R2':r2(y_test, y_pred),\n",
    "                        #'Sum':sum(y_pred),\n",
    "                        'Training_time':end_training-start_training,\n",
    "                        'Tuner_time':None,\n",
    "                        'Time_prediction':end_prediction-start_prediction},\n",
    "                                                                ignore_index=True)\n",
    "df_results"
   ]
  },
  {
   "cell_type": "code",
   "execution_count": 58,
   "metadata": {},
   "outputs": [],
   "source": [
    "dates_list = []\n",
    "for d in data[-24*7:]['Date']:\n",
    "    if d not in dates_list:\n",
    "        dates_list.append(d)"
   ]
  },
  {
   "cell_type": "code",
   "execution_count": 59,
   "metadata": {},
   "outputs": [
    {
     "data": {
      "text/plain": [
       "[Timestamp('2020-12-25 00:00:00'),\n",
       " Timestamp('2020-12-26 00:00:00'),\n",
       " Timestamp('2020-12-27 00:00:00'),\n",
       " Timestamp('2020-12-28 00:00:00'),\n",
       " Timestamp('2020-12-29 00:00:00'),\n",
       " Timestamp('2020-12-30 00:00:00'),\n",
       " Timestamp('2020-12-31 00:00:00')]"
      ]
     },
     "execution_count": 59,
     "metadata": {},
     "output_type": "execute_result"
    }
   ],
   "source": [
    "dates_list"
   ]
  },
  {
   "cell_type": "code",
   "execution_count": 60,
   "metadata": {},
   "outputs": [
    {
     "data": {
      "image/png": "[encoded data removed]",
      "text/plain": [
       "<Figure size 1080x360 with 1 Axes>"
      ]
     },
     "metadata": {
      "needs_background": "light"
     },
     "output_type": "display_data"
    }
   ],
   "source": [
    "plt.figure(figsize=(15, 5))\n",
    "for col in df_predictions.columns:\n",
    "    plt.plot(df_predictions[col], label=col)\n",
    "plt.ylabel('Потребление электроэнергии, кВт.')\n",
    "plt.legend()\n",
    "plt.xticks(ticks=range(0, 168, 24),labels=dates_list, rotation=15);"
   ]
  },
  {
   "cell_type": "code",
   "execution_count": 61,
   "metadata": {},
   "outputs": [],
   "source": [
    "colors = sns.color_palette(\"bright\", n_colors=len(df_predictions.columns))"
   ]
  },
  {
   "cell_type": "code",
   "execution_count": 62,
   "metadata": {},
   "outputs": [
    {
     "data": {
      "image/png": "[encoded data removed]",
      "text/plain": [
       "<Figure size 1152x720 with 4 Axes>"
      ]
     },
     "metadata": {
      "needs_background": "light"
     },
     "output_type": "display_data"
    }
   ],
   "source": [
    "plt.figure(figsize=(16, 10))\n",
    "plt.subplots_adjust(hspace=1.2, wspace=0.3) \n",
    "\n",
    "plt.subplot(2, 2, 1)\n",
    "plt.bar(x=df_predictions.columns[1:], height=df_results['MAPE'], color=colors)\n",
    "for index, value in enumerate(df_results['MAPE']):\n",
    "    plt.text(x=index, y=value + 1, s=f'{value:.2f}%', ha='center')\n",
    "plt.ylabel('MAPE (%)')\n",
    "plt.xticks(df_predictions.columns[1:], rotation=65)\n",
    "\n",
    "plt.subplot(2, 2, 2)\n",
    "plt.bar(x=df_predictions.columns[1:], height=df_results['MSE'], color=colors)\n",
    "for index, value in enumerate(df_results['MSE']):\n",
    "    plt.text(x=index, y=value + 1, s=f'{value:.2f}', ha='center')\n",
    "plt.ylabel('MSE')\n",
    "plt.xticks(df_predictions.columns[1:], rotation=65)\n",
    "\n",
    "plt.subplot(2, 2, 3)\n",
    "plt.bar(x=df_predictions.columns[1:], height=df_results['MAE'], color=colors)\n",
    "for index, value in enumerate(df_results['MAE']):\n",
    "    plt.text(x=index, y=value + 1, s=f'{value:.2f}', ha='center')\n",
    "plt.ylabel('MAE')\n",
    "plt.xticks(df_predictions.columns[1:], rotation=65)\n",
    "\n",
    "plt.subplot(2, 2, 4)\n",
    "plt.bar(x=df_predictions.columns[1:], height=df_results['R2'], color=colors)\n",
    "for index, value in enumerate(df_results['R2']):\n",
    "    plt.text(x=index, y=value, s=f'{value:.2f}', ha='center')\n",
    "plt.ylabel('R2')\n",
    "plt.xticks(df_predictions.columns[1:], rotation=65);"
   ]
  },
  {
   "cell_type": "markdown",
   "metadata": {},
   "source": [
    "# Random Forest"
   ]
  },
  {
   "cell_type": "code",
   "execution_count": 64,
   "metadata": {},
   "outputs": [
    {
     "name": "stdout",
     "output_type": "stream",
     "text": [
      "Day: 1\n",
      "Day: 2\n",
      "Day: 3\n",
      "Day: 4\n",
      "Day: 5\n",
      "Day: 6\n",
      "Day: 7\n"
     ]
    },
    {
     "data": {
      "text/html": [
       "<div>\n",
       "<style scoped>\n",
       "    .dataframe tbody tr th:only-of-type {\n",
       "        vertical-align: middle;\n",
       "    }\n",
       "\n",
       "    .dataframe tbody tr th {\n",
       "        vertical-align: top;\n",
       "    }\n",
       "\n",
       "    .dataframe thead th {\n",
       "        text-align: right;\n",
       "    }\n",
       "</style>\n",
       "<table border=\"1\" class=\"dataframe\">\n",
       "  <thead>\n",
       "    <tr style=\"text-align: right;\">\n",
       "      <th></th>\n",
       "      <th>Model</th>\n",
       "      <th>Tuner</th>\n",
       "      <th>Params</th>\n",
       "      <th>MAPE</th>\n",
       "      <th>MSE</th>\n",
       "      <th>MAE</th>\n",
       "      <th>R2</th>\n",
       "      <th>Training_time</th>\n",
       "      <th>Tuner_time</th>\n",
       "      <th>Time_prediction</th>\n",
       "    </tr>\n",
       "  </thead>\n",
       "  <tbody>\n",
       "    <tr>\n",
       "      <th>0</th>\n",
       "      <td>DecisionTree(Наблюдение за раз)</td>\n",
       "      <td>True</td>\n",
       "      <td>{'max_depth': 7}</td>\n",
       "      <td>10.319345</td>\n",
       "      <td>15254.388766</td>\n",
       "      <td>92.061003</td>\n",
       "      <td>0.868599</td>\n",
       "      <td>5.335809</td>\n",
       "      <td>447.066828</td>\n",
       "      <td>0.206010</td>\n",
       "    </tr>\n",
       "    <tr>\n",
       "      <th>1</th>\n",
       "      <td>DecisionTree(Сутки за раз)</td>\n",
       "      <td>True</td>\n",
       "      <td>{'max_depth': 8}</td>\n",
       "      <td>10.552595</td>\n",
       "      <td>16959.824443</td>\n",
       "      <td>93.688000</td>\n",
       "      <td>0.853908</td>\n",
       "      <td>19.740879</td>\n",
       "      <td>None</td>\n",
       "      <td>0.008000</td>\n",
       "    </tr>\n",
       "    <tr>\n",
       "      <th>2</th>\n",
       "      <td>DecisionTree(Неделя за раз)</td>\n",
       "      <td>True</td>\n",
       "      <td>{'max_depth': 8}</td>\n",
       "      <td>9.273271</td>\n",
       "      <td>11527.566307</td>\n",
       "      <td>82.471311</td>\n",
       "      <td>0.900702</td>\n",
       "      <td>58.040292</td>\n",
       "      <td>None</td>\n",
       "      <td>0.002001</td>\n",
       "    </tr>\n",
       "    <tr>\n",
       "      <th>3</th>\n",
       "      <td>RandomForest(Наблюдение за раз)</td>\n",
       "      <td>True</td>\n",
       "      <td>{'n_estimators': 150}</td>\n",
       "      <td>9.312250</td>\n",
       "      <td>12257.438720</td>\n",
       "      <td>82.477158</td>\n",
       "      <td>0.894414</td>\n",
       "      <td>887.436490</td>\n",
       "      <td>None</td>\n",
       "      <td>2.132349</td>\n",
       "    </tr>\n",
       "  </tbody>\n",
       "</table>\n",
       "</div>"
      ],
      "text/plain": [
       "                             Model Tuner                 Params       MAPE  \\\n",
       "0  DecisionTree(Наблюдение за раз)  True       {'max_depth': 7}  10.319345   \n",
       "1       DecisionTree(Сутки за раз)  True       {'max_depth': 8}  10.552595   \n",
       "2      DecisionTree(Неделя за раз)  True       {'max_depth': 8}   9.273271   \n",
       "3  RandomForest(Наблюдение за раз)  True  {'n_estimators': 150}   9.312250   \n",
       "\n",
       "            MSE        MAE        R2  Training_time  Tuner_time  \\\n",
       "0  15254.388766  92.061003  0.868599       5.335809  447.066828   \n",
       "1  16959.824443  93.688000  0.853908      19.740879        None   \n",
       "2  11527.566307  82.471311  0.900702      58.040292        None   \n",
       "3  12257.438720  82.477158  0.894414     887.436490        None   \n",
       "\n",
       "   Time_prediction  \n",
       "0         0.206010  \n",
       "1         0.008000  \n",
       "2         0.002001  \n",
       "3         2.132349  "
      ]
     },
     "execution_count": 64,
     "metadata": {},
     "output_type": "execute_result"
    }
   ],
   "source": [
    "WINDOW = 24*7\n",
    "Forecast_type = 'Наблюдение за раз'\n",
    "\n",
    "\n",
    "# каждый день отдельно, в каждом дне по 1 наблюдению\n",
    "# X=[data_0, ..., data_23] -> y=[data_24]\n",
    "X_train, y_train = [], []\n",
    "for i in range(0, len(y)-WINDOW):\n",
    "    X_train.append(y[i:i+WINDOW])\n",
    "    y_train.append(y[i+WINDOW])\n",
    "    \n",
    "model_name = 'RandomForest'\n",
    "Tuner = True\n",
    "\n",
    "\n",
    "model = RandomForestRegressor()\n",
    "parameters = {'n_estimators' : list(range(10, 151, 10))}\n",
    "gridsearch = GridSearchCV(model, parameters, n_jobs=-1)\n",
    "start_tuner = time.time()\n",
    "gridsearch.fit(X_train, y_train)\n",
    "end_tuner = time.time()\n",
    "\n",
    "params = {'n_estimators': gridsearch.best_params_['n_estimators']}\n",
    "\n",
    "\n",
    "model = RandomForestRegressor(n_estimators=params['n_estimators'])\n",
    "start_training = time.time()\n",
    "model.fit(X_train, y_train)\n",
    "end_training = time.time()\n",
    "\n",
    "start_prediction = time.time()\n",
    "y_pred = []\n",
    "for day in range(7):\n",
    "    print(f'Day: {day+1}')\n",
    "    X_for_prediction = y_list[day][-24*7:]\n",
    "    for i in range(24):\n",
    "        new_y = model.predict(X_for_prediction[-24*7:].reshape(1, -1)).item()\n",
    "        y_pred.append(new_y)\n",
    "        X_for_prediction = np.append(X_for_prediction, new_y)\n",
    "end_prediction = time.time()\n",
    "df_predictions[f'{model_name}({Forecast_type})'] = y_pred\n",
    "\n",
    "df_results = df_results.append({'Model':f'{model_name}({Forecast_type})',\n",
    "                        'Tuner':Tuner,\n",
    "                        'Params': params,\n",
    "                        'MAPE':mape(y_test, y_pred),\n",
    "                        'MSE':mse(y_test, y_pred),\n",
    "                        'MAE':mae(y_test, y_pred),\n",
    "                        'R2':r2(y_test, y_pred),\n",
    "                        #'Sum':sum(y_pred),\n",
    "                        'Training_time':end_training-start_training,\n",
    "                        'Tuner_time':None,\n",
    "                        'Time_prediction':end_prediction-start_prediction},\n",
    "                                                                ignore_index=True)\n",
    "df_results"
   ]
  },
  {
   "cell_type": "code",
   "execution_count": 66,
   "metadata": {},
   "outputs": [
    {
     "data": {
      "text/html": [
       "<div>\n",
       "<style scoped>\n",
       "    .dataframe tbody tr th:only-of-type {\n",
       "        vertical-align: middle;\n",
       "    }\n",
       "\n",
       "    .dataframe tbody tr th {\n",
       "        vertical-align: top;\n",
       "    }\n",
       "\n",
       "    .dataframe thead th {\n",
       "        text-align: right;\n",
       "    }\n",
       "</style>\n",
       "<table border=\"1\" class=\"dataframe\">\n",
       "  <thead>\n",
       "    <tr style=\"text-align: right;\">\n",
       "      <th></th>\n",
       "      <th>Date</th>\n",
       "      <th>Time</th>\n",
       "      <th>Usage_kWh</th>\n",
       "    </tr>\n",
       "  </thead>\n",
       "  <tbody>\n",
       "    <tr>\n",
       "      <th>0</th>\n",
       "      <td>2017-01-01</td>\n",
       "      <td>00 - 01</td>\n",
       "      <td>570.685479</td>\n",
       "    </tr>\n",
       "    <tr>\n",
       "      <th>1</th>\n",
       "      <td>2017-01-01</td>\n",
       "      <td>01 - 02</td>\n",
       "      <td>604.642705</td>\n",
       "    </tr>\n",
       "    <tr>\n",
       "      <th>2</th>\n",
       "      <td>2017-01-01</td>\n",
       "      <td>02 - 03</td>\n",
       "      <td>518.732113</td>\n",
       "    </tr>\n",
       "    <tr>\n",
       "      <th>3</th>\n",
       "      <td>2017-01-01</td>\n",
       "      <td>03 - 04</td>\n",
       "      <td>608.188829</td>\n",
       "    </tr>\n",
       "    <tr>\n",
       "      <th>4</th>\n",
       "      <td>2017-01-01</td>\n",
       "      <td>04 - 05</td>\n",
       "      <td>714.140572</td>\n",
       "    </tr>\n",
       "  </tbody>\n",
       "</table>\n",
       "</div>"
      ],
      "text/plain": [
       "        Date     Time   Usage_kWh\n",
       "0 2017-01-01  00 - 01  570.685479\n",
       "1 2017-01-01  01 - 02  604.642705\n",
       "2 2017-01-01  02 - 03  518.732113\n",
       "3 2017-01-01  03 - 04  608.188829\n",
       "4 2017-01-01  04 - 05  714.140572"
      ]
     },
     "execution_count": 66,
     "metadata": {},
     "output_type": "execute_result"
    }
   ],
   "source": [
    "data.head()"
   ]
  },
  {
   "cell_type": "code",
   "execution_count": null,
   "metadata": {},
   "outputs": [],
   "source": []
  },
  {
   "cell_type": "code",
   "execution_count": 68,
   "metadata": {},
   "outputs": [
    {
     "name": "stdout",
     "output_type": "stream",
     "text": [
      "Day: 1\n",
      "Day: 2\n",
      "Day: 3\n",
      "Day: 4\n",
      "Day: 5\n",
      "Day: 6\n",
      "Day: 7\n"
     ]
    },
    {
     "data": {
      "text/html": [
       "<div>\n",
       "<style scoped>\n",
       "    .dataframe tbody tr th:only-of-type {\n",
       "        vertical-align: middle;\n",
       "    }\n",
       "\n",
       "    .dataframe tbody tr th {\n",
       "        vertical-align: top;\n",
       "    }\n",
       "\n",
       "    .dataframe thead th {\n",
       "        text-align: right;\n",
       "    }\n",
       "</style>\n",
       "<table border=\"1\" class=\"dataframe\">\n",
       "  <thead>\n",
       "    <tr style=\"text-align: right;\">\n",
       "      <th></th>\n",
       "      <th>Model</th>\n",
       "      <th>Tuner</th>\n",
       "      <th>Params</th>\n",
       "      <th>MAPE</th>\n",
       "      <th>MSE</th>\n",
       "      <th>MAE</th>\n",
       "      <th>R2</th>\n",
       "      <th>Training_time</th>\n",
       "      <th>Tuner_time</th>\n",
       "      <th>Time_prediction</th>\n",
       "    </tr>\n",
       "  </thead>\n",
       "  <tbody>\n",
       "    <tr>\n",
       "      <th>0</th>\n",
       "      <td>DecisionTree(Наблюдение за раз)</td>\n",
       "      <td>True</td>\n",
       "      <td>{'max_depth': 7}</td>\n",
       "      <td>10.319345</td>\n",
       "      <td>15254.388766</td>\n",
       "      <td>92.061003</td>\n",
       "      <td>0.868599</td>\n",
       "      <td>5.335809</td>\n",
       "      <td>447.066828</td>\n",
       "      <td>0.206010</td>\n",
       "    </tr>\n",
       "    <tr>\n",
       "      <th>1</th>\n",
       "      <td>DecisionTree(Сутки за раз)</td>\n",
       "      <td>True</td>\n",
       "      <td>{'max_depth': 8}</td>\n",
       "      <td>10.552595</td>\n",
       "      <td>16959.824443</td>\n",
       "      <td>93.688000</td>\n",
       "      <td>0.853908</td>\n",
       "      <td>19.740879</td>\n",
       "      <td>None</td>\n",
       "      <td>0.008000</td>\n",
       "    </tr>\n",
       "    <tr>\n",
       "      <th>2</th>\n",
       "      <td>DecisionTree(Неделя за раз)</td>\n",
       "      <td>True</td>\n",
       "      <td>{'max_depth': 8}</td>\n",
       "      <td>9.273271</td>\n",
       "      <td>11527.566307</td>\n",
       "      <td>82.471311</td>\n",
       "      <td>0.900702</td>\n",
       "      <td>58.040292</td>\n",
       "      <td>None</td>\n",
       "      <td>0.002001</td>\n",
       "    </tr>\n",
       "    <tr>\n",
       "      <th>3</th>\n",
       "      <td>RandomForest(Наблюдение за раз)</td>\n",
       "      <td>True</td>\n",
       "      <td>{'n_estimators': 150}</td>\n",
       "      <td>9.312250</td>\n",
       "      <td>12257.438720</td>\n",
       "      <td>82.477158</td>\n",
       "      <td>0.894414</td>\n",
       "      <td>887.436490</td>\n",
       "      <td>None</td>\n",
       "      <td>2.132349</td>\n",
       "    </tr>\n",
       "    <tr>\n",
       "      <th>4</th>\n",
       "      <td>RandomForest(Сутки за раз)</td>\n",
       "      <td>True</td>\n",
       "      <td>{'n_estimators': 110}</td>\n",
       "      <td>10.755710</td>\n",
       "      <td>17896.516883</td>\n",
       "      <td>99.554433</td>\n",
       "      <td>0.845839</td>\n",
       "      <td>1435.127419</td>\n",
       "      <td>None</td>\n",
       "      <td>0.200606</td>\n",
       "    </tr>\n",
       "  </tbody>\n",
       "</table>\n",
       "</div>"
      ],
      "text/plain": [
       "                             Model Tuner                 Params       MAPE  \\\n",
       "0  DecisionTree(Наблюдение за раз)  True       {'max_depth': 7}  10.319345   \n",
       "1       DecisionTree(Сутки за раз)  True       {'max_depth': 8}  10.552595   \n",
       "2      DecisionTree(Неделя за раз)  True       {'max_depth': 8}   9.273271   \n",
       "3  RandomForest(Наблюдение за раз)  True  {'n_estimators': 150}   9.312250   \n",
       "4       RandomForest(Сутки за раз)  True  {'n_estimators': 110}  10.755710   \n",
       "\n",
       "            MSE        MAE        R2  Training_time  Tuner_time  \\\n",
       "0  15254.388766  92.061003  0.868599       5.335809  447.066828   \n",
       "1  16959.824443  93.688000  0.853908      19.740879        None   \n",
       "2  11527.566307  82.471311  0.900702      58.040292        None   \n",
       "3  12257.438720  82.477158  0.894414     887.436490        None   \n",
       "4  17896.516883  99.554433  0.845839    1435.127419        None   \n",
       "\n",
       "   Time_prediction  \n",
       "0         0.206010  \n",
       "1         0.008000  \n",
       "2         0.002001  \n",
       "3         2.132349  \n",
       "4         0.200606  "
      ]
     },
     "execution_count": 68,
     "metadata": {},
     "output_type": "execute_result"
    }
   ],
   "source": [
    "WINDOW = 24*7\n",
    "Forecast_type = 'Сутки за раз'\n",
    "\n",
    "X_train, y_train = [], []\n",
    "for i in range(0, len(y)-24*8):\n",
    "    X_train.append(y[i:i+WINDOW])\n",
    "    y_train.append(y[i+WINDOW:i+WINDOW+24])\n",
    "    \n",
    "model_name = 'RandomForest'\n",
    "Tuner = True\n",
    "\n",
    "\n",
    "model = RandomForestRegressor()\n",
    "parameters = {'n_estimators' : list(range(10, 151, 10))}\n",
    "gridsearch = GridSearchCV(model, parameters, n_jobs=-1)\n",
    "start_tuner = time.time()\n",
    "gridsearch.fit(X_train, y_train)\n",
    "end_tuner = time.time()\n",
    "\n",
    "params = {'n_estimators': gridsearch.best_params_['n_estimators']}\n",
    "\n",
    "\n",
    "model = RandomForestRegressor(n_estimators=params['n_estimators'])\n",
    "start_training = time.time()\n",
    "model.fit(X_train, y_train)\n",
    "end_training = time.time()\n",
    "\n",
    "start_prediction = time.time()\n",
    "y_pred = []\n",
    "for day in range(7):\n",
    "    print(f'Day: {day+1}')\n",
    "    X_for_prediction = y_list[day][-24*7:]\n",
    "    new_y = model.predict(X_for_prediction[-24*7:].reshape(1, -1))[0]\n",
    "    y_pred.extend(new_y)\n",
    "end_prediction = time.time()\n",
    "df_predictions[f'{model_name}({Forecast_type})'] = y_pred\n",
    "\n",
    "df_results = df_results.append({'Model':f'{model_name}({Forecast_type})',\n",
    "                        'Tuner':Tuner,\n",
    "                        'Params': params,\n",
    "                        'MAPE':mape(y_test, y_pred),\n",
    "                        'MSE':mse(y_test, y_pred),\n",
    "                        'MAE':mae(y_test, y_pred),\n",
    "                        'R2':r2(y_test, y_pred),\n",
    "                        #'Sum':sum(y_pred),\n",
    "                        'Training_time':end_training-start_training,\n",
    "                        'Tuner_time':None,\n",
    "                        'Time_prediction':end_prediction-start_prediction},\n",
    "                                                                ignore_index=True)\n",
    "df_results"
   ]
  },
  {
   "cell_type": "code",
   "execution_count": 76,
   "metadata": {},
   "outputs": [
    {
     "data": {
      "text/html": [
       "<div>\n",
       "<style scoped>\n",
       "    .dataframe tbody tr th:only-of-type {\n",
       "        vertical-align: middle;\n",
       "    }\n",
       "\n",
       "    .dataframe tbody tr th {\n",
       "        vertical-align: top;\n",
       "    }\n",
       "\n",
       "    .dataframe thead th {\n",
       "        text-align: right;\n",
       "    }\n",
       "</style>\n",
       "<table border=\"1\" class=\"dataframe\">\n",
       "  <thead>\n",
       "    <tr style=\"text-align: right;\">\n",
       "      <th></th>\n",
       "      <th>Model</th>\n",
       "      <th>Tuner</th>\n",
       "      <th>Params</th>\n",
       "      <th>MAPE</th>\n",
       "      <th>MSE</th>\n",
       "      <th>MAE</th>\n",
       "      <th>R2</th>\n",
       "      <th>Training_time</th>\n",
       "      <th>Tuner_time</th>\n",
       "      <th>Time_prediction</th>\n",
       "    </tr>\n",
       "  </thead>\n",
       "  <tbody>\n",
       "    <tr>\n",
       "      <th>0</th>\n",
       "      <td>DecisionTree(Наблюдение за раз)</td>\n",
       "      <td>True</td>\n",
       "      <td>{'max_depth': 7}</td>\n",
       "      <td>10.319345</td>\n",
       "      <td>15254.388766</td>\n",
       "      <td>92.061003</td>\n",
       "      <td>0.868599</td>\n",
       "      <td>5.335809</td>\n",
       "      <td>447.066828</td>\n",
       "      <td>0.206010</td>\n",
       "    </tr>\n",
       "    <tr>\n",
       "      <th>1</th>\n",
       "      <td>DecisionTree(Сутки за раз)</td>\n",
       "      <td>True</td>\n",
       "      <td>{'max_depth': 8}</td>\n",
       "      <td>10.552595</td>\n",
       "      <td>16959.824443</td>\n",
       "      <td>93.688000</td>\n",
       "      <td>0.853908</td>\n",
       "      <td>19.740879</td>\n",
       "      <td>None</td>\n",
       "      <td>0.008000</td>\n",
       "    </tr>\n",
       "    <tr>\n",
       "      <th>2</th>\n",
       "      <td>RandomForest(Наблюдение за раз)</td>\n",
       "      <td>True</td>\n",
       "      <td>{'n_estimators': 150}</td>\n",
       "      <td>9.312250</td>\n",
       "      <td>12257.438720</td>\n",
       "      <td>82.477158</td>\n",
       "      <td>0.894414</td>\n",
       "      <td>887.436490</td>\n",
       "      <td>None</td>\n",
       "      <td>2.132349</td>\n",
       "    </tr>\n",
       "    <tr>\n",
       "      <th>3</th>\n",
       "      <td>RandomForest(Сутки за раз)</td>\n",
       "      <td>True</td>\n",
       "      <td>{'n_estimators': 110}</td>\n",
       "      <td>10.755710</td>\n",
       "      <td>17896.516883</td>\n",
       "      <td>99.554433</td>\n",
       "      <td>0.845839</td>\n",
       "      <td>1435.127419</td>\n",
       "      <td>None</td>\n",
       "      <td>0.200606</td>\n",
       "    </tr>\n",
       "  </tbody>\n",
       "</table>\n",
       "</div>"
      ],
      "text/plain": [
       "                             Model Tuner                 Params       MAPE  \\\n",
       "0  DecisionTree(Наблюдение за раз)  True       {'max_depth': 7}  10.319345   \n",
       "1       DecisionTree(Сутки за раз)  True       {'max_depth': 8}  10.552595   \n",
       "2  RandomForest(Наблюдение за раз)  True  {'n_estimators': 150}   9.312250   \n",
       "3       RandomForest(Сутки за раз)  True  {'n_estimators': 110}  10.755710   \n",
       "\n",
       "            MSE        MAE        R2  Training_time  Tuner_time  \\\n",
       "0  15254.388766  92.061003  0.868599       5.335809  447.066828   \n",
       "1  16959.824443  93.688000  0.853908      19.740879        None   \n",
       "2  12257.438720  82.477158  0.894414     887.436490        None   \n",
       "3  17896.516883  99.554433  0.845839    1435.127419        None   \n",
       "\n",
       "   Time_prediction  \n",
       "0         0.206010  \n",
       "1         0.008000  \n",
       "2         2.132349  \n",
       "3         0.200606  "
      ]
     },
     "execution_count": 76,
     "metadata": {},
     "output_type": "execute_result"
    }
   ],
   "source": [
    "df_results"
   ]
  },
  {
   "cell_type": "code",
   "execution_count": 70,
   "metadata": {},
   "outputs": [],
   "source": [
    "# WINDOW = 24*7\n",
    "# Forecast_type = 'Неделя за раз'\n",
    "\n",
    "# X_train, y_train = [], []\n",
    "# for i in range(0, len(y)-24*14):\n",
    "#     X_train.append(y[i:i+WINDOW])\n",
    "#     y_train.append(y[i+WINDOW:i+WINDOW+24*7])\n",
    "    \n",
    "# model_name = 'RandomForest'\n",
    "# Tuner = True\n",
    "\n",
    "\n",
    "# model = RandomForestRegressor()\n",
    "# parameters = {'n_estimators' : list(range(10, 151, 10))}\n",
    "# gridsearch = GridSearchCV(model, parameters, n_jobs=-1)\n",
    "# start_tuner = time.time()\n",
    "# gridsearch.fit(X_train, y_train)\n",
    "# end_tuner = time.time()\n",
    "\n",
    "# params = {'n_estimators': gridsearch.best_params_['n_estimators']}\n",
    "\n",
    "\n",
    "# model = RandomForestRegressor(n_estimators=params['n_estimators'])\n",
    "# start_training = time.time()\n",
    "# model.fit(X_train, y_train)\n",
    "# end_training = time.time()\n",
    "    \n",
    "# y_pred = []\n",
    "# X_for_prediction = y[-24*7:]\n",
    "# start_prediction = time.time()\n",
    "# y_pred = model.predict(X_for_prediction.reshape(-1, 24*7))[0]\n",
    "# end_prediction = time.time()\n",
    "# df_predictions[f'{model_name}({Forecast_type})'] = y_pred\n",
    "\n",
    "# df_results = df_results.append({'Model':f'{model_name}({Forecast_type})',\n",
    "#                         'Tuner':Tuner,\n",
    "#                         'Params': params,\n",
    "#                         'MAPE':mape(y_test, y_pred),\n",
    "#                         'MSE':mse(y_test, y_pred),\n",
    "#                         'MAE':mae(y_test, y_pred),\n",
    "#                         'R2':r2(y_test, y_pred),\n",
    "#                         #'Sum':sum(y_pred),\n",
    "#                         'Training_time':end_training-start_training,\n",
    "#                         'Tuner_time':None,\n",
    "#                         'Time_prediction':end_prediction-start_prediction},\n",
    "#                                                                 ignore_index=True)\n",
    "# df_results"
   ]
  },
  {
   "cell_type": "code",
   "execution_count": 81,
   "metadata": {},
   "outputs": [
    {
     "data": {
      "text/html": [
       "<div>\n",
       "<style scoped>\n",
       "    .dataframe tbody tr th:only-of-type {\n",
       "        vertical-align: middle;\n",
       "    }\n",
       "\n",
       "    .dataframe tbody tr th {\n",
       "        vertical-align: top;\n",
       "    }\n",
       "\n",
       "    .dataframe thead th {\n",
       "        text-align: right;\n",
       "    }\n",
       "</style>\n",
       "<table border=\"1\" class=\"dataframe\">\n",
       "  <thead>\n",
       "    <tr style=\"text-align: right;\">\n",
       "      <th></th>\n",
       "      <th>True</th>\n",
       "      <th>DecisionTree(Наблюдение за раз)</th>\n",
       "      <th>DecisionTree(Сутки за раз)</th>\n",
       "      <th>RandomForest(Наблюдение за раз)</th>\n",
       "      <th>RandomForest(Сутки за раз)</th>\n",
       "    </tr>\n",
       "  </thead>\n",
       "  <tbody>\n",
       "    <tr>\n",
       "      <th>0</th>\n",
       "      <td>498.574076</td>\n",
       "      <td>469.243397</td>\n",
       "      <td>474.983074</td>\n",
       "      <td>475.147589</td>\n",
       "      <td>514.362343</td>\n",
       "    </tr>\n",
       "    <tr>\n",
       "      <th>1</th>\n",
       "      <td>448.325927</td>\n",
       "      <td>505.898468</td>\n",
       "      <td>515.085091</td>\n",
       "      <td>510.974315</td>\n",
       "      <td>526.344557</td>\n",
       "    </tr>\n",
       "    <tr>\n",
       "      <th>2</th>\n",
       "      <td>589.959784</td>\n",
       "      <td>524.353136</td>\n",
       "      <td>519.212918</td>\n",
       "      <td>529.954377</td>\n",
       "      <td>549.574031</td>\n",
       "    </tr>\n",
       "    <tr>\n",
       "      <th>3</th>\n",
       "      <td>408.063429</td>\n",
       "      <td>524.353136</td>\n",
       "      <td>513.676200</td>\n",
       "      <td>515.862259</td>\n",
       "      <td>538.834932</td>\n",
       "    </tr>\n",
       "    <tr>\n",
       "      <th>4</th>\n",
       "      <td>406.263067</td>\n",
       "      <td>524.353136</td>\n",
       "      <td>520.784918</td>\n",
       "      <td>512.533463</td>\n",
       "      <td>532.291909</td>\n",
       "    </tr>\n",
       "    <tr>\n",
       "      <th>...</th>\n",
       "      <td>...</td>\n",
       "      <td>...</td>\n",
       "      <td>...</td>\n",
       "      <td>...</td>\n",
       "      <td>...</td>\n",
       "    </tr>\n",
       "    <tr>\n",
       "      <th>163</th>\n",
       "      <td>1093.896979</td>\n",
       "      <td>826.002374</td>\n",
       "      <td>829.916534</td>\n",
       "      <td>862.105341</td>\n",
       "      <td>830.044799</td>\n",
       "    </tr>\n",
       "    <tr>\n",
       "      <th>164</th>\n",
       "      <td>976.242006</td>\n",
       "      <td>826.002374</td>\n",
       "      <td>800.767000</td>\n",
       "      <td>820.092363</td>\n",
       "      <td>794.228230</td>\n",
       "    </tr>\n",
       "    <tr>\n",
       "      <th>165</th>\n",
       "      <td>960.551132</td>\n",
       "      <td>771.197829</td>\n",
       "      <td>805.631365</td>\n",
       "      <td>838.210333</td>\n",
       "      <td>818.087582</td>\n",
       "    </tr>\n",
       "    <tr>\n",
       "      <th>166</th>\n",
       "      <td>694.074945</td>\n",
       "      <td>771.197829</td>\n",
       "      <td>761.616545</td>\n",
       "      <td>776.327813</td>\n",
       "      <td>755.380552</td>\n",
       "    </tr>\n",
       "    <tr>\n",
       "      <th>167</th>\n",
       "      <td>801.715216</td>\n",
       "      <td>690.925888</td>\n",
       "      <td>677.525481</td>\n",
       "      <td>714.459993</td>\n",
       "      <td>692.047903</td>\n",
       "    </tr>\n",
       "  </tbody>\n",
       "</table>\n",
       "<p>168 rows × 5 columns</p>\n",
       "</div>"
      ],
      "text/plain": [
       "            True  DecisionTree(Наблюдение за раз)  DecisionTree(Сутки за раз)  \\\n",
       "0     498.574076                       469.243397                  474.983074   \n",
       "1     448.325927                       505.898468                  515.085091   \n",
       "2     589.959784                       524.353136                  519.212918   \n",
       "3     408.063429                       524.353136                  513.676200   \n",
       "4     406.263067                       524.353136                  520.784918   \n",
       "..           ...                              ...                         ...   \n",
       "163  1093.896979                       826.002374                  829.916534   \n",
       "164   976.242006                       826.002374                  800.767000   \n",
       "165   960.551132                       771.197829                  805.631365   \n",
       "166   694.074945                       771.197829                  761.616545   \n",
       "167   801.715216                       690.925888                  677.525481   \n",
       "\n",
       "     RandomForest(Наблюдение за раз)  RandomForest(Сутки за раз)  \n",
       "0                         475.147589                  514.362343  \n",
       "1                         510.974315                  526.344557  \n",
       "2                         529.954377                  549.574031  \n",
       "3                         515.862259                  538.834932  \n",
       "4                         512.533463                  532.291909  \n",
       "..                               ...                         ...  \n",
       "163                       862.105341                  830.044799  \n",
       "164                       820.092363                  794.228230  \n",
       "165                       838.210333                  818.087582  \n",
       "166                       776.327813                  755.380552  \n",
       "167                       714.459993                  692.047903  \n",
       "\n",
       "[168 rows x 5 columns]"
      ]
     },
     "execution_count": 81,
     "metadata": {},
     "output_type": "execute_result"
    }
   ],
   "source": [
    "df_predictions = df_predictions.drop('DecisionTree(Неделя за раз)', axis=1)\n",
    "df_predictions"
   ]
  },
  {
   "cell_type": "code",
   "execution_count": 82,
   "metadata": {},
   "outputs": [],
   "source": [
    "# plt.figure(figsize=(15, 5))\n",
    "# for col in df_predictions.columns:\n",
    "#     plt.plot(df_predictions[col], label=col)\n",
    "# plt.ylabel('Потребление электроэнергии, кВт.')\n",
    "# plt.legend()\n",
    "# plt.xticks(ticks=range(0, 168, 24),labels=dates_list, rotation=15);"
   ]
  },
  {
   "cell_type": "code",
   "execution_count": 83,
   "metadata": {},
   "outputs": [],
   "source": [
    "colors = sns.color_palette(\"bright\", n_colors=len(df_predictions.columns))"
   ]
  },
  {
   "cell_type": "code",
   "execution_count": 87,
   "metadata": {},
   "outputs": [
    {
     "data": {
      "image/png": "[encoded data removed]",
      "text/plain": [
       "<Figure size 936x720 with 4 Axes>"
      ]
     },
     "metadata": {
      "needs_background": "light"
     },
     "output_type": "display_data"
    }
   ],
   "source": [
    "plt.figure(figsize=(13, 10))\n",
    "plt.subplots_adjust(hspace=1.2, wspace=0.3) \n",
    "\n",
    "plt.subplot(2, 2, 1)\n",
    "plt.bar(x=df_predictions.columns[1:], height=df_results['MAPE'], color=colors)\n",
    "for index, value in enumerate(df_results['MAPE']):\n",
    "    plt.text(x=index, y=value + 1, s=f'{value:.2f}%', ha='center')\n",
    "plt.ylabel('MAPE (%)')\n",
    "plt.xticks(df_predictions.columns[1:], rotation=65)\n",
    "\n",
    "plt.subplot(2, 2, 2)\n",
    "plt.bar(x=df_predictions.columns[1:], height=df_results['MSE'], color=colors)\n",
    "for index, value in enumerate(df_results['MSE']):\n",
    "    plt.text(x=index, y=value + 1, s=f'{value:.2f}', ha='center')\n",
    "plt.ylabel('MSE')\n",
    "plt.xticks(df_predictions.columns[1:], rotation=65)\n",
    "\n",
    "plt.subplot(2, 2, 3)\n",
    "plt.bar(x=df_predictions.columns[1:], height=df_results['MAE'], color=colors)\n",
    "for index, value in enumerate(df_results['MAE']):\n",
    "    plt.text(x=index, y=value + 1, s=f'{value:.2f}', ha='center')\n",
    "plt.ylabel('MAE')\n",
    "plt.xticks(df_predictions.columns[1:], rotation=65)\n",
    "\n",
    "plt.subplot(2, 2, 4)\n",
    "plt.bar(x=df_predictions.columns[1:], height=df_results['R2'], color=colors)\n",
    "for index, value in enumerate(df_results['R2']):\n",
    "    plt.text(x=index, y=value, s=f'{value:.2f}', ha='center')\n",
    "plt.ylabel('R2')\n",
    "plt.xticks(df_predictions.columns[1:], rotation=65);"
   ]
  },
  {
   "cell_type": "code",
   "execution_count": 88,
   "metadata": {},
   "outputs": [],
   "source": [
    "df_results.to_csv('Trees_grid_results.csv')\n",
    "df_predictions.to_csv('Trees_grid_predictions.csv')"
   ]
  },
  {
   "cell_type": "code",
   "execution_count": null,
   "metadata": {},
   "outputs": [],
   "source": []
  },
  {
   "cell_type": "code",
   "execution_count": null,
   "metadata": {},
   "outputs": [],
   "source": []
  },
  {
   "cell_type": "code",
   "execution_count": null,
   "metadata": {},
   "outputs": [],
   "source": []
  }
 ],
 "metadata": {
  "colab": {
   "authorship_tag": "ABX9TyPCqTMYVvE4h4jWb2M18idP",
   "mount_file_id": "1rgBJOojGvuULQhS9qN69ZT2a-UP1Modm",
   "provenance": [],
   "toc_visible": true
  },
  "gpuClass": "standard",
  "kernelspec": {
   "display_name": "Python 3",
   "language": "python",
   "name": "python3"
  },
  "language_info": {
   "codemirror_mode": {
    "name": "ipython",
    "version": 3
   },
   "file_extension": ".py",
   "mimetype": "text/x-python",
   "name": "python",
   "nbconvert_exporter": "python",
   "pygments_lexer": "ipython3",
   "version": "3.8.8"
  }
 },
 "nbformat": 4,
 "nbformat_minor": 1
}
